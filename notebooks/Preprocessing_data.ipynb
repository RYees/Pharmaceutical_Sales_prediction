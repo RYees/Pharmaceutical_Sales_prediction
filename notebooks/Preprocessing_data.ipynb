{
 "cells": [
  {
   "cell_type": "code",
   "execution_count": 92,
   "id": "38e1c9f9",
   "metadata": {},
   "outputs": [],
   "source": [
    "import matplotlib.pyplot as plt\n",
    "import numpy as np\n",
    "import pandas as pd\n",
    "import seaborn as sns\n",
    "import os,sys\n",
    "import logging\n",
    "import dvc.api\n",
    "\n",
    "sys.path.append(os.path.abspath(os.path.join('..')))\n",
    "from scripts.data_manipulation import DataManipulator\n",
    "from sklearn import preprocessing\n",
    "logging.basicConfig(filename='info.log', level=logging.INFO) "
   ]
  },
  {
   "cell_type": "code",
   "execution_count": 93,
   "id": "afa6cdf8",
   "metadata": {},
   "outputs": [],
   "source": [
    "import warnings\n",
    "warnings.filterwarnings('ignore')"
   ]
  },
  {
   "cell_type": "code",
   "execution_count": null,
   "id": "2c3d0918",
   "metadata": {},
   "outputs": [],
   "source": [
    "# sys.path.append(os.path.abspath(os.path.join('..')))\n",
    "# from scripts.eda import EDA\n",
    "# from scripts.plot import Plot"
   ]
  },
  {
   "cell_type": "code",
   "execution_count": 94,
   "id": "60feec3b",
   "metadata": {},
   "outputs": [],
   "source": [
    "path = 'data/train_fin.csv'\n",
    "repo = 'https://github.com/RYees/Pharmaceutical_Sales_prediction/'\n",
    "version = '3391a5959cf1b8946ca6b5bb37074332d6949a70'\n",
    "\n",
    "data_url = dvc.api.get_url(\n",
    "path = path,\n",
    "repo = repo,\n",
    "rev = version)"
   ]
  },
  {
   "cell_type": "code",
   "execution_count": 95,
   "id": "75a1cafa",
   "metadata": {},
   "outputs": [
    {
     "data": {
      "text/html": [
       "<div>\n",
       "<style scoped>\n",
       "    .dataframe tbody tr th:only-of-type {\n",
       "        vertical-align: middle;\n",
       "    }\n",
       "\n",
       "    .dataframe tbody tr th {\n",
       "        vertical-align: top;\n",
       "    }\n",
       "\n",
       "    .dataframe thead th {\n",
       "        text-align: right;\n",
       "    }\n",
       "</style>\n",
       "<table border=\"1\" class=\"dataframe\">\n",
       "  <thead>\n",
       "    <tr style=\"text-align: right;\">\n",
       "      <th></th>\n",
       "      <th>Date</th>\n",
       "      <th>Store</th>\n",
       "      <th>DayOfWeek</th>\n",
       "      <th>Open</th>\n",
       "      <th>Promo</th>\n",
       "      <th>StateHoliday</th>\n",
       "      <th>SchoolHoliday</th>\n",
       "      <th>StoreType</th>\n",
       "      <th>Assortment</th>\n",
       "      <th>CompetitionDistance</th>\n",
       "      <th>...</th>\n",
       "      <th>CompetitionOpenSinceYear</th>\n",
       "      <th>Promo2</th>\n",
       "      <th>Promo2SinceWeek</th>\n",
       "      <th>Promo2SinceYear</th>\n",
       "      <th>PromoInterval</th>\n",
       "      <th>Day</th>\n",
       "      <th>Month</th>\n",
       "      <th>Year</th>\n",
       "      <th>DayOfYear</th>\n",
       "      <th>WeekOfYear</th>\n",
       "    </tr>\n",
       "  </thead>\n",
       "  <tbody>\n",
       "    <tr>\n",
       "      <th>0</th>\n",
       "      <td>2015-08-01</td>\n",
       "      <td>1</td>\n",
       "      <td>6</td>\n",
       "      <td>1.0</td>\n",
       "      <td>0</td>\n",
       "      <td>0</td>\n",
       "      <td>1</td>\n",
       "      <td>c</td>\n",
       "      <td>a</td>\n",
       "      <td>1270.0</td>\n",
       "      <td>...</td>\n",
       "      <td>2008.0</td>\n",
       "      <td>0</td>\n",
       "      <td>0.0</td>\n",
       "      <td>0.0</td>\n",
       "      <td>0</td>\n",
       "      <td>1</td>\n",
       "      <td>8</td>\n",
       "      <td>2015</td>\n",
       "      <td>213</td>\n",
       "      <td>31</td>\n",
       "    </tr>\n",
       "    <tr>\n",
       "      <th>1</th>\n",
       "      <td>2015-08-02</td>\n",
       "      <td>1</td>\n",
       "      <td>7</td>\n",
       "      <td>0.0</td>\n",
       "      <td>0</td>\n",
       "      <td>0</td>\n",
       "      <td>1</td>\n",
       "      <td>c</td>\n",
       "      <td>a</td>\n",
       "      <td>1270.0</td>\n",
       "      <td>...</td>\n",
       "      <td>2008.0</td>\n",
       "      <td>0</td>\n",
       "      <td>0.0</td>\n",
       "      <td>0.0</td>\n",
       "      <td>0</td>\n",
       "      <td>2</td>\n",
       "      <td>8</td>\n",
       "      <td>2015</td>\n",
       "      <td>214</td>\n",
       "      <td>31</td>\n",
       "    </tr>\n",
       "  </tbody>\n",
       "</table>\n",
       "<p>2 rows × 21 columns</p>\n",
       "</div>"
      ],
      "text/plain": [
       "         Date  Store  DayOfWeek  Open  Promo StateHoliday  SchoolHoliday  \\\n",
       "0  2015-08-01      1          6   1.0      0            0              1   \n",
       "1  2015-08-02      1          7   0.0      0            0              1   \n",
       "\n",
       "  StoreType Assortment  CompetitionDistance  ...  CompetitionOpenSinceYear  \\\n",
       "0         c          a               1270.0  ...                    2008.0   \n",
       "1         c          a               1270.0  ...                    2008.0   \n",
       "\n",
       "   Promo2  Promo2SinceWeek  Promo2SinceYear  PromoInterval Day  Month  Year  \\\n",
       "0       0              0.0              0.0              0   1      8  2015   \n",
       "1       0              0.0              0.0              0   2      8  2015   \n",
       "\n",
       "   DayOfYear  WeekOfYear  \n",
       "0        213          31  \n",
       "1        214          31  \n",
       "\n",
       "[2 rows x 21 columns]"
      ]
     },
     "execution_count": 95,
     "metadata": {},
     "output_type": "execute_result"
    }
   ],
   "source": [
    "test_df = pd.read_csv(\"../data/com_test.csv\")\n",
    "# train_df = train_df.drop(['index'],axis=1)\n",
    "test_df.head(2)"
   ]
  },
  {
   "cell_type": "code",
   "execution_count": 96,
   "id": "0e2b6fce",
   "metadata": {},
   "outputs": [
    {
     "data": {
      "text/html": [
       "<div>\n",
       "<style scoped>\n",
       "    .dataframe tbody tr th:only-of-type {\n",
       "        vertical-align: middle;\n",
       "    }\n",
       "\n",
       "    .dataframe tbody tr th {\n",
       "        vertical-align: top;\n",
       "    }\n",
       "\n",
       "    .dataframe thead th {\n",
       "        text-align: right;\n",
       "    }\n",
       "</style>\n",
       "<table border=\"1\" class=\"dataframe\">\n",
       "  <thead>\n",
       "    <tr style=\"text-align: right;\">\n",
       "      <th></th>\n",
       "      <th>Date</th>\n",
       "      <th>Store</th>\n",
       "      <th>DayOfWeek</th>\n",
       "      <th>Sales</th>\n",
       "      <th>Customers</th>\n",
       "      <th>Open</th>\n",
       "      <th>Promo</th>\n",
       "      <th>StateHoliday</th>\n",
       "      <th>SchoolHoliday</th>\n",
       "      <th>StoreType</th>\n",
       "      <th>...</th>\n",
       "      <th>CompetitionOpenSinceYear</th>\n",
       "      <th>Promo2</th>\n",
       "      <th>Promo2SinceWeek</th>\n",
       "      <th>Promo2SinceYear</th>\n",
       "      <th>PromoInterval</th>\n",
       "      <th>Day</th>\n",
       "      <th>Month</th>\n",
       "      <th>Year</th>\n",
       "      <th>DayOfYear</th>\n",
       "      <th>WeekOfYear</th>\n",
       "    </tr>\n",
       "  </thead>\n",
       "  <tbody>\n",
       "    <tr>\n",
       "      <th>0</th>\n",
       "      <td>2013-01-01</td>\n",
       "      <td>1</td>\n",
       "      <td>2</td>\n",
       "      <td>0</td>\n",
       "      <td>0</td>\n",
       "      <td>0</td>\n",
       "      <td>0</td>\n",
       "      <td>a</td>\n",
       "      <td>1</td>\n",
       "      <td>c</td>\n",
       "      <td>...</td>\n",
       "      <td>2008.0</td>\n",
       "      <td>0</td>\n",
       "      <td>0.0</td>\n",
       "      <td>0.0</td>\n",
       "      <td>0</td>\n",
       "      <td>1</td>\n",
       "      <td>1</td>\n",
       "      <td>2013</td>\n",
       "      <td>1</td>\n",
       "      <td>1</td>\n",
       "    </tr>\n",
       "    <tr>\n",
       "      <th>1</th>\n",
       "      <td>2013-01-02</td>\n",
       "      <td>1</td>\n",
       "      <td>3</td>\n",
       "      <td>5530</td>\n",
       "      <td>668</td>\n",
       "      <td>1</td>\n",
       "      <td>0</td>\n",
       "      <td>0</td>\n",
       "      <td>1</td>\n",
       "      <td>c</td>\n",
       "      <td>...</td>\n",
       "      <td>2008.0</td>\n",
       "      <td>0</td>\n",
       "      <td>0.0</td>\n",
       "      <td>0.0</td>\n",
       "      <td>0</td>\n",
       "      <td>2</td>\n",
       "      <td>1</td>\n",
       "      <td>2013</td>\n",
       "      <td>2</td>\n",
       "      <td>1</td>\n",
       "    </tr>\n",
       "    <tr>\n",
       "      <th>2</th>\n",
       "      <td>2013-01-03</td>\n",
       "      <td>1</td>\n",
       "      <td>4</td>\n",
       "      <td>4327</td>\n",
       "      <td>578</td>\n",
       "      <td>1</td>\n",
       "      <td>0</td>\n",
       "      <td>0</td>\n",
       "      <td>1</td>\n",
       "      <td>c</td>\n",
       "      <td>...</td>\n",
       "      <td>2008.0</td>\n",
       "      <td>0</td>\n",
       "      <td>0.0</td>\n",
       "      <td>0.0</td>\n",
       "      <td>0</td>\n",
       "      <td>3</td>\n",
       "      <td>1</td>\n",
       "      <td>2013</td>\n",
       "      <td>3</td>\n",
       "      <td>1</td>\n",
       "    </tr>\n",
       "    <tr>\n",
       "      <th>3</th>\n",
       "      <td>2013-01-04</td>\n",
       "      <td>1</td>\n",
       "      <td>5</td>\n",
       "      <td>4486</td>\n",
       "      <td>619</td>\n",
       "      <td>1</td>\n",
       "      <td>0</td>\n",
       "      <td>0</td>\n",
       "      <td>1</td>\n",
       "      <td>c</td>\n",
       "      <td>...</td>\n",
       "      <td>2008.0</td>\n",
       "      <td>0</td>\n",
       "      <td>0.0</td>\n",
       "      <td>0.0</td>\n",
       "      <td>0</td>\n",
       "      <td>4</td>\n",
       "      <td>1</td>\n",
       "      <td>2013</td>\n",
       "      <td>4</td>\n",
       "      <td>1</td>\n",
       "    </tr>\n",
       "    <tr>\n",
       "      <th>4</th>\n",
       "      <td>2013-01-05</td>\n",
       "      <td>1</td>\n",
       "      <td>6</td>\n",
       "      <td>4997</td>\n",
       "      <td>635</td>\n",
       "      <td>1</td>\n",
       "      <td>0</td>\n",
       "      <td>0</td>\n",
       "      <td>1</td>\n",
       "      <td>c</td>\n",
       "      <td>...</td>\n",
       "      <td>2008.0</td>\n",
       "      <td>0</td>\n",
       "      <td>0.0</td>\n",
       "      <td>0.0</td>\n",
       "      <td>0</td>\n",
       "      <td>5</td>\n",
       "      <td>1</td>\n",
       "      <td>2013</td>\n",
       "      <td>5</td>\n",
       "      <td>1</td>\n",
       "    </tr>\n",
       "  </tbody>\n",
       "</table>\n",
       "<p>5 rows × 23 columns</p>\n",
       "</div>"
      ],
      "text/plain": [
       "         Date  Store  DayOfWeek  Sales  Customers  Open  Promo StateHoliday  \\\n",
       "0  2013-01-01      1          2      0          0     0      0            a   \n",
       "1  2013-01-02      1          3   5530        668     1      0            0   \n",
       "2  2013-01-03      1          4   4327        578     1      0            0   \n",
       "3  2013-01-04      1          5   4486        619     1      0            0   \n",
       "4  2013-01-05      1          6   4997        635     1      0            0   \n",
       "\n",
       "   SchoolHoliday StoreType  ... CompetitionOpenSinceYear  Promo2  \\\n",
       "0              1         c  ...                   2008.0       0   \n",
       "1              1         c  ...                   2008.0       0   \n",
       "2              1         c  ...                   2008.0       0   \n",
       "3              1         c  ...                   2008.0       0   \n",
       "4              1         c  ...                   2008.0       0   \n",
       "\n",
       "   Promo2SinceWeek  Promo2SinceYear  PromoInterval  Day  Month  Year  \\\n",
       "0              0.0              0.0              0    1      1  2013   \n",
       "1              0.0              0.0              0    2      1  2013   \n",
       "2              0.0              0.0              0    3      1  2013   \n",
       "3              0.0              0.0              0    4      1  2013   \n",
       "4              0.0              0.0              0    5      1  2013   \n",
       "\n",
       "   DayOfYear  WeekOfYear  \n",
       "0          1           1  \n",
       "1          2           1  \n",
       "2          3           1  \n",
       "3          4           1  \n",
       "4          5           1  \n",
       "\n",
       "[5 rows x 23 columns]"
      ]
     },
     "execution_count": 96,
     "metadata": {},
     "output_type": "execute_result"
    }
   ],
   "source": [
    "train_df = pd.read_csv(\"../data/com_train.csv\")\n",
    "# train_df = train_df.drop(['index'],axis=1)\n",
    "train_df.head(5)"
   ]
  },
  {
   "cell_type": "code",
   "execution_count": 97,
   "id": "f6d8b99a",
   "metadata": {},
   "outputs": [
    {
     "data": {
      "text/html": [
       "<div>\n",
       "<style scoped>\n",
       "    .dataframe tbody tr th:only-of-type {\n",
       "        vertical-align: middle;\n",
       "    }\n",
       "\n",
       "    .dataframe tbody tr th {\n",
       "        vertical-align: top;\n",
       "    }\n",
       "\n",
       "    .dataframe thead th {\n",
       "        text-align: right;\n",
       "    }\n",
       "</style>\n",
       "<table border=\"1\" class=\"dataframe\">\n",
       "  <thead>\n",
       "    <tr style=\"text-align: right;\">\n",
       "      <th></th>\n",
       "      <th>Date</th>\n",
       "      <th>Store</th>\n",
       "      <th>DayOfWeek</th>\n",
       "      <th>Sales</th>\n",
       "      <th>Customers</th>\n",
       "      <th>Open</th>\n",
       "      <th>Promo</th>\n",
       "      <th>StateHoliday</th>\n",
       "      <th>SchoolHoliday</th>\n",
       "      <th>StoreType</th>\n",
       "      <th>...</th>\n",
       "      <th>CompetitionOpenSinceYear</th>\n",
       "      <th>Promo2</th>\n",
       "      <th>Promo2SinceWeek</th>\n",
       "      <th>Promo2SinceYear</th>\n",
       "      <th>PromoInterval</th>\n",
       "      <th>Day</th>\n",
       "      <th>Month</th>\n",
       "      <th>Year</th>\n",
       "      <th>DayOfYear</th>\n",
       "      <th>WeekOfYear</th>\n",
       "    </tr>\n",
       "  </thead>\n",
       "  <tbody>\n",
       "    <tr>\n",
       "      <th>0</th>\n",
       "      <td>2013-01-01</td>\n",
       "      <td>1</td>\n",
       "      <td>2</td>\n",
       "      <td>0</td>\n",
       "      <td>0</td>\n",
       "      <td>0</td>\n",
       "      <td>0</td>\n",
       "      <td>a</td>\n",
       "      <td>1</td>\n",
       "      <td>c</td>\n",
       "      <td>...</td>\n",
       "      <td>2008.0</td>\n",
       "      <td>0</td>\n",
       "      <td>0.0</td>\n",
       "      <td>0.0</td>\n",
       "      <td>0</td>\n",
       "      <td>1</td>\n",
       "      <td>1</td>\n",
       "      <td>2013</td>\n",
       "      <td>1</td>\n",
       "      <td>1</td>\n",
       "    </tr>\n",
       "    <tr>\n",
       "      <th>1</th>\n",
       "      <td>2013-01-02</td>\n",
       "      <td>1</td>\n",
       "      <td>3</td>\n",
       "      <td>5530</td>\n",
       "      <td>668</td>\n",
       "      <td>1</td>\n",
       "      <td>0</td>\n",
       "      <td>0</td>\n",
       "      <td>1</td>\n",
       "      <td>c</td>\n",
       "      <td>...</td>\n",
       "      <td>2008.0</td>\n",
       "      <td>0</td>\n",
       "      <td>0.0</td>\n",
       "      <td>0.0</td>\n",
       "      <td>0</td>\n",
       "      <td>2</td>\n",
       "      <td>1</td>\n",
       "      <td>2013</td>\n",
       "      <td>2</td>\n",
       "      <td>1</td>\n",
       "    </tr>\n",
       "    <tr>\n",
       "      <th>2</th>\n",
       "      <td>2013-01-03</td>\n",
       "      <td>1</td>\n",
       "      <td>4</td>\n",
       "      <td>4327</td>\n",
       "      <td>578</td>\n",
       "      <td>1</td>\n",
       "      <td>0</td>\n",
       "      <td>0</td>\n",
       "      <td>1</td>\n",
       "      <td>c</td>\n",
       "      <td>...</td>\n",
       "      <td>2008.0</td>\n",
       "      <td>0</td>\n",
       "      <td>0.0</td>\n",
       "      <td>0.0</td>\n",
       "      <td>0</td>\n",
       "      <td>3</td>\n",
       "      <td>1</td>\n",
       "      <td>2013</td>\n",
       "      <td>3</td>\n",
       "      <td>1</td>\n",
       "    </tr>\n",
       "    <tr>\n",
       "      <th>3</th>\n",
       "      <td>2013-01-04</td>\n",
       "      <td>1</td>\n",
       "      <td>5</td>\n",
       "      <td>4486</td>\n",
       "      <td>619</td>\n",
       "      <td>1</td>\n",
       "      <td>0</td>\n",
       "      <td>0</td>\n",
       "      <td>1</td>\n",
       "      <td>c</td>\n",
       "      <td>...</td>\n",
       "      <td>2008.0</td>\n",
       "      <td>0</td>\n",
       "      <td>0.0</td>\n",
       "      <td>0.0</td>\n",
       "      <td>0</td>\n",
       "      <td>4</td>\n",
       "      <td>1</td>\n",
       "      <td>2013</td>\n",
       "      <td>4</td>\n",
       "      <td>1</td>\n",
       "    </tr>\n",
       "    <tr>\n",
       "      <th>4</th>\n",
       "      <td>2013-01-05</td>\n",
       "      <td>1</td>\n",
       "      <td>6</td>\n",
       "      <td>4997</td>\n",
       "      <td>635</td>\n",
       "      <td>1</td>\n",
       "      <td>0</td>\n",
       "      <td>0</td>\n",
       "      <td>1</td>\n",
       "      <td>c</td>\n",
       "      <td>...</td>\n",
       "      <td>2008.0</td>\n",
       "      <td>0</td>\n",
       "      <td>0.0</td>\n",
       "      <td>0.0</td>\n",
       "      <td>0</td>\n",
       "      <td>5</td>\n",
       "      <td>1</td>\n",
       "      <td>2013</td>\n",
       "      <td>5</td>\n",
       "      <td>1</td>\n",
       "    </tr>\n",
       "  </tbody>\n",
       "</table>\n",
       "<p>5 rows × 23 columns</p>\n",
       "</div>"
      ],
      "text/plain": [
       "         Date  Store  DayOfWeek  Sales  Customers  Open  Promo StateHoliday  \\\n",
       "0  2013-01-01      1          2      0          0     0      0            a   \n",
       "1  2013-01-02      1          3   5530        668     1      0            0   \n",
       "2  2013-01-03      1          4   4327        578     1      0            0   \n",
       "3  2013-01-04      1          5   4486        619     1      0            0   \n",
       "4  2013-01-05      1          6   4997        635     1      0            0   \n",
       "\n",
       "   SchoolHoliday StoreType  ... CompetitionOpenSinceYear  Promo2  \\\n",
       "0              1         c  ...                   2008.0       0   \n",
       "1              1         c  ...                   2008.0       0   \n",
       "2              1         c  ...                   2008.0       0   \n",
       "3              1         c  ...                   2008.0       0   \n",
       "4              1         c  ...                   2008.0       0   \n",
       "\n",
       "   Promo2SinceWeek  Promo2SinceYear  PromoInterval  Day  Month  Year  \\\n",
       "0              0.0              0.0              0    1      1  2013   \n",
       "1              0.0              0.0              0    2      1  2013   \n",
       "2              0.0              0.0              0    3      1  2013   \n",
       "3              0.0              0.0              0    4      1  2013   \n",
       "4              0.0              0.0              0    5      1  2013   \n",
       "\n",
       "   DayOfYear  WeekOfYear  \n",
       "0          1           1  \n",
       "1          2           1  \n",
       "2          3           1  \n",
       "3          4           1  \n",
       "4          5           1  \n",
       "\n",
       "[5 rows x 23 columns]"
      ]
     },
     "execution_count": 97,
     "metadata": {},
     "output_type": "execute_result"
    }
   ],
   "source": [
    "train_df = train_df.reset_index()\n",
    "train_df = train_df.drop(['index'],axis=1)\n",
    "train_df.head()"
   ]
  },
  {
   "cell_type": "code",
   "execution_count": null,
   "id": "905807c6",
   "metadata": {},
   "outputs": [],
   "source": [
    "train_df.info()"
   ]
  },
  {
   "cell_type": "code",
   "execution_count": null,
   "id": "c8390990",
   "metadata": {},
   "outputs": [],
   "source": [
    "# test_store = pd.read_csv('../data/test.csv')\n",
    "# test_store"
   ]
  },
  {
   "cell_type": "code",
   "execution_count": null,
   "id": "81b431c2",
   "metadata": {},
   "outputs": [],
   "source": [
    "train_store = pd.read_csv('../data/train.csv')\n",
    "train_store"
   ]
  },
  {
   "cell_type": "code",
   "execution_count": 98,
   "id": "3be65c4c",
   "metadata": {},
   "outputs": [],
   "source": [
    "manipulate = DataManipulator(test_df)"
   ]
  },
  {
   "cell_type": "code",
   "execution_count": 99,
   "id": "ec5c267b",
   "metadata": {},
   "outputs": [],
   "source": [
    "manipulator = DataManipulator(train_df)"
   ]
  },
  {
   "cell_type": "code",
   "execution_count": 100,
   "id": "d590fd21",
   "metadata": {},
   "outputs": [
    {
     "name": "stderr",
     "output_type": "stream",
     "text": [
      "Data Manipulatior:INFO->Successfully Added WeekDay Column to the DataFrame\n",
      "Data Manipulatior:INFO->Successfully Added WeekDay Column to the DataFrame\n"
     ]
    }
   ],
   "source": [
    "manipulator.add_week_day('DayOfWeek')\n",
    "manipulate.add_week_day('DayOfWeek')"
   ]
  },
  {
   "cell_type": "code",
   "execution_count": 101,
   "id": "3e597413",
   "metadata": {},
   "outputs": [
    {
     "name": "stderr",
     "output_type": "stream",
     "text": [
      "Data Manipulatior:INFO->Successfully Added DaysToHoliday Column\n",
      "Data Manipulatior:INFO->Successfully Added DaysToHoliday Column\n"
     ]
    }
   ],
   "source": [
    "manipulator.add_number_of_days_to_holiday('StateHoliday')\n",
    "manipulate.add_number_of_days_to_holiday('StateHoliday')"
   ]
  },
  {
   "cell_type": "code",
   "execution_count": 102,
   "id": "595b8776",
   "metadata": {},
   "outputs": [
    {
     "name": "stderr",
     "output_type": "stream",
     "text": [
      "Data Manipulatior:INFO->Successfully Added DaysAfterHoliday Column\n",
      "Data Manipulatior:INFO->Successfully Added DaysAfterHoliday Column\n"
     ]
    }
   ],
   "source": [
    "manipulator.add_number_of_days_after_holiday('StateHoliday')\n",
    "manipulate.add_number_of_days_after_holiday('StateHoliday')"
   ]
  },
  {
   "cell_type": "code",
   "execution_count": 103,
   "id": "8e45a5e5",
   "metadata": {},
   "outputs": [
    {
     "name": "stderr",
     "output_type": "stream",
     "text": [
      "Data Manipulatior:INFO->Successfully Added MonthTiming Column\n",
      "Data Manipulatior:INFO->Successfully Added MonthTiming Column\n"
     ]
    }
   ],
   "source": [
    "manipulator.add_month_timing('Day')\n",
    "manipulate.add_month_timing('Day')"
   ]
  },
  {
   "cell_type": "code",
   "execution_count": null,
   "id": "07ba4611",
   "metadata": {},
   "outputs": [],
   "source": [
    "train_df.head()"
   ]
  },
  {
   "cell_type": "code",
   "execution_count": null,
   "id": "75f4bfe9",
   "metadata": {},
   "outputs": [],
   "source": [
    "test_df.head()"
   ]
  },
  {
   "cell_type": "code",
   "execution_count": 104,
   "id": "bf09e50d",
   "metadata": {},
   "outputs": [],
   "source": [
    "feats = ['Promo2SinceYear','Promo2SinceWeek','CompetitionDistance', 'PromoInterval']\n",
    "modes = train_df[feats].mode()\n",
    "\n",
    "for f in feats:\n",
    "        train_df[f] = train_df[f].fillna(modes[f][0])\n",
    "        test_df[f] = test_df[f].fillna(modes[f][0])\n",
    "for dataset in (train_df,test_df):\n",
    "    dataset['Open'] = dataset['Open'].fillna(0)"
   ]
  },
  {
   "cell_type": "code",
   "execution_count": 105,
   "id": "e23a062e",
   "metadata": {},
   "outputs": [],
   "source": [
    "train_df.drop(['Store','Date','Customers','StoreType','Assortment'],axis=1,inplace=True)\n",
    "test_df.drop(['Store','Date','StoreType','Assortment'],axis=1,inplace=True)"
   ]
  },
  {
   "cell_type": "code",
   "execution_count": null,
   "id": "4dd5a074",
   "metadata": {},
   "outputs": [],
   "source": [
    "# train_df.drop(['StoreType','Assortment'],axis=1,inplace=True)\n",
    "# # test_df.drop(['StoreType','Assortment'],axis=1,inplace=True)\n",
    "# train_df['StoreType']"
   ]
  },
  {
   "cell_type": "code",
   "execution_count": null,
   "id": "dc886e1c",
   "metadata": {
    "scrolled": true
   },
   "outputs": [],
   "source": [
    "train_df.head(2)"
   ]
  },
  {
   "cell_type": "code",
   "execution_count": 107,
   "id": "0d0e985e",
   "metadata": {},
   "outputs": [],
   "source": [
    "# train_df = train_df[train_df['Sales'] < 25000]  #Drops samples which have sales more than 25000\n",
    "# train_df.reset_index(drop=True).head()"
   ]
  },
  {
   "cell_type": "code",
   "execution_count": 108,
   "id": "b81eb1d6",
   "metadata": {},
   "outputs": [],
   "source": [
    "## Label Encoder\n",
    "attributes = ['StateHoliday','PromoInterval']\n",
    "for dataset in (train_df,test_df):\n",
    "    for f in attributes:\n",
    "        dataset[attributes] = dataset[attributes].apply(lambda x: pd.factorize(x)[0])"
   ]
  },
  {
   "cell_type": "code",
   "execution_count": 109,
   "id": "d4c2f5f8",
   "metadata": {},
   "outputs": [],
   "source": [
    "train_df.drop(['PromoInterval'],axis=1,inplace=True)\n",
    "test_df.drop(['PromoInterval'],axis=1,inplace=True)"
   ]
  },
  {
   "cell_type": "code",
   "execution_count": 110,
   "id": "0a1887e2",
   "metadata": {},
   "outputs": [],
   "source": [
    "# Only Use non-zero Sales Samples For Training\n",
    "train_df = train_df[train_df['Open'] == 1]\n",
    "train_df = train_df[train_df['Sales'] > 0.0]"
   ]
  },
  {
   "cell_type": "code",
   "execution_count": 111,
   "id": "3196a1ec",
   "metadata": {},
   "outputs": [
    {
     "data": {
      "text/plain": [
       "Sales                        1.000000\n",
       "Promo                        0.373668\n",
       "WeekDay                      0.156012\n",
       "WeekOfYear                   0.072979\n",
       "Month                        0.072107\n",
       "DayOfYear                    0.067107\n",
       "SchoolHoliday                0.039551\n",
       "Year                         0.037963\n",
       "DaysAfterHoliday             0.034159\n",
       "CompetitionOpenSinceYear     0.004764\n",
       "StateHoliday                -0.002593\n",
       "CompetitionOpenSinceMonth   -0.017265\n",
       "CompetitionDistance         -0.033179\n",
       "DaysToHoliday               -0.037560\n",
       "Day                         -0.053184\n",
       "Promo2SinceWeek             -0.056714\n",
       "MonthTiming                 -0.070680\n",
       "Promo2                      -0.125841\n",
       "Promo2SinceYear             -0.125866\n",
       "DayOfWeek                   -0.181750\n",
       "Open                              NaN\n",
       "Name: Sales, dtype: float64"
      ]
     },
     "execution_count": 111,
     "metadata": {},
     "output_type": "execute_result"
    }
   ],
   "source": [
    "# The Correlation with The Target \n",
    "corr_matrix = train_df.corr()\n",
    "corr_matrix[\"Sales\"].sort_values(ascending=False)\n",
    "# corr_matrix[\"Sales\"]"
   ]
  },
  {
   "cell_type": "code",
   "execution_count": null,
   "id": "5ee29d61",
   "metadata": {},
   "outputs": [],
   "source": [
    "train_df.head(2)"
   ]
  },
  {
   "cell_type": "code",
   "execution_count": null,
   "id": "5bb82b3a",
   "metadata": {},
   "outputs": [],
   "source": [
    "train_df.info()"
   ]
  },
  {
   "cell_type": "code",
   "execution_count": null,
   "id": "5f4a656f",
   "metadata": {},
   "outputs": [],
   "source": [
    "test_df.info()"
   ]
  },
  {
   "cell_type": "code",
   "execution_count": 112,
   "id": "9b92f1af",
   "metadata": {},
   "outputs": [],
   "source": [
    "##assume 0 and '0' are the same in train.StateHoliday \n",
    "def mychange(x):\n",
    "     if type(x)!= str: x=str(x)\n",
    "     return x\n",
    "        \n",
    "train_df.StateHoliday = [mychange(x) for x in train_df.StateHoliday]\n",
    "\n",
    "train_df = train_df.drop('StateHoliday',1).join(pd.get_dummies(train_df['StateHoliday']).rename(columns=lambda x: 'StateHoliday' +\"_\"+str(x)))  "
   ]
  },
  {
   "cell_type": "code",
   "execution_count": 113,
   "id": "c79076c8",
   "metadata": {},
   "outputs": [],
   "source": [
    "test_df = test_df.drop('StateHoliday',1).join(pd.get_dummies(test_df['StateHoliday']).rename(columns=lambda x: 'StateHoliday' +\"_\"+str(x)))"
   ]
  },
  {
   "cell_type": "code",
   "execution_count": 114,
   "id": "9b92c484",
   "metadata": {},
   "outputs": [
    {
     "data": {
      "text/plain": [
       "DayOfWeek                      int64\n",
       "WeekDay                        int64\n",
       "Sales                          int64\n",
       "Open                           int64\n",
       "Promo                          int64\n",
       "DaysAfterHoliday               int64\n",
       "DaysToHoliday                  int64\n",
       "SchoolHoliday                  int64\n",
       "CompetitionDistance          float64\n",
       "CompetitionOpenSinceMonth    float64\n",
       "CompetitionOpenSinceYear     float64\n",
       "Promo2                         int64\n",
       "Promo2SinceWeek              float64\n",
       "Promo2SinceYear              float64\n",
       "Day                            int64\n",
       "MonthTiming                    int64\n",
       "Month                          int64\n",
       "Year                           int64\n",
       "DayOfYear                      int64\n",
       "WeekOfYear                     int64\n",
       "StateHoliday_0                 uint8\n",
       "StateHoliday_1                 uint8\n",
       "StateHoliday_2                 uint8\n",
       "StateHoliday_3                 uint8\n",
       "LogSale                      float64\n",
       "dtype: object"
      ]
     },
     "execution_count": 114,
     "metadata": {},
     "output_type": "execute_result"
    }
   ],
   "source": [
    "toAppend = pd.DataFrame(np.log(train_df.Sales+1),dtype=float)\n",
    "toAppend.columns.values[0]='LogSale'\n",
    "train_df=train_df.join(toAppend)\n",
    "train_df.dtypes"
   ]
  },
  {
   "cell_type": "code",
   "execution_count": 115,
   "id": "a871111a",
   "metadata": {},
   "outputs": [],
   "source": [
    "train_df.drop(['Sales'],axis=1,inplace=True)"
   ]
  },
  {
   "cell_type": "code",
   "execution_count": 116,
   "id": "251b8b4a",
   "metadata": {},
   "outputs": [
    {
     "data": {
      "text/plain": [
       "1"
      ]
     },
     "execution_count": 116,
     "metadata": {},
     "output_type": "execute_result"
    }
   ],
   "source": [
    "## check if there exists any constant variable\n",
    "np.sum(train_df.var()==0)"
   ]
  },
  {
   "cell_type": "code",
   "execution_count": 117,
   "id": "78c44b75",
   "metadata": {},
   "outputs": [],
   "source": [
    "# To Preproccesing our data\n",
    "from sklearn.preprocessing import LabelEncoder\n",
    "# from sklearn import preprocessing\n",
    "# from sklearn import utils\n",
    "\n",
    "# To fill missing values\n",
    "from sklearn.impute import SimpleImputer\n",
    "\n",
    "# To Split our train data\n",
    "from sklearn.model_selection import train_test_split\n",
    "\n",
    "# To Train our data\n",
    "from xgboost import XGBClassifier\n",
    "from sklearn.tree import DecisionTreeClassifier\n",
    "from sklearn.ensemble import RandomForestRegressor\n",
    "from sklearn.neighbors import KNeighborsClassifier\n",
    "from sklearn.linear_model import LogisticRegression\n",
    "from sklearn.naive_bayes import BernoulliNB, GaussianNB\n",
    "\n",
    "# To evaluate end result we have\n",
    "from sklearn.metrics import accuracy_score, confusion_matrix\n",
    "from sklearn.model_selection import LeaveOneOut\n",
    "from sklearn.model_selection import cross_val_score\n",
    "\n",
    "# To setup mlflow\n",
    "import mlflow\n",
    "import mlflow.sklearn"
   ]
  },
  {
   "cell_type": "code",
   "execution_count": null,
   "id": "31e7f7d5",
   "metadata": {},
   "outputs": [],
   "source": [
    "##### randomforest\n",
    "from sklearn.ensemble._forest import RandomForestRegressor\n",
    "\n",
    "##### delete variables that do not exist in the test set\n",
    "toDrop = list(set(train_df.columns.values)-set(test_df.columns.values) )\n",
    "features = train_df.columns.drop(toDrop,1)\n",
    "\n",
    "rf = RandomForestRegressor(n_estimators=100)\n",
    "rf.fit(train_df.drop(toDrop ,1).fillna(-1),train_df.LogSale)\n",
    "\n",
    "\n",
    "importances = rf.feature_importances_ \n",
    "# return the indices that would sort the importance, decreasing\n",
    "indices = np.argsort(importances)[::-1]\n",
    "\n",
    "# Print the feature ranking\n",
    "print(\"Feature ranking:\")\n",
    "\n",
    "\n",
    "Features = train_df.columns.drop('LogSale')\n",
    "for f in range(35):\n",
    "    print(\"%d. feature %d :%s (%f)\" % (f + 1, indices[f],Features[indices[f]], importances[indices[f]]))\n",
    "\n",
    "# Plot the feature importances of the forest\n",
    "# the most important feature 'open' is left out in the plot to make it easier to see the other features\n",
    "plt.figure()\n",
    "plt.title(\"Feature importances\")\n",
    "plt.bar(range(1,10), importances[indices[range(1,10)]]) \n",
    "plt.xlim([-1, 10])\n",
    "plt.show()\n",
    "\n",
    "# make prediction on test data\n",
    "# mypred = rf.predict(test_df.drop('Id',1).fillna(-1))\n"
   ]
  },
  {
   "cell_type": "code",
   "execution_count": null,
   "id": "1962fcb9",
   "metadata": {},
   "outputs": [],
   "source": [
    "# Using StandardScaler to standardize the all columns\n",
    "from sklearn.preprocessing import MinMaxScaler, Normalizer, StandardScaler, LabelEncoder\n",
    "scale_train_list = train_df.columns.to_list()\n",
    "scale_test_list = test_df.columns.to_list()\n",
    "def standardize_columns(df, column) -> pd.DataFrame:\n",
    "    try:        \n",
    "        std_column_df = pd.DataFrame(df[column])\n",
    "        std_column_values = std_column_df.values\n",
    "        standardizer = StandardScaler()\n",
    "        normalized_data = standardizer.fit_transform(std_column_values)\n",
    "        df[column] = normalized_data\n",
    "        logging.info('Successfull data scaling')\n",
    "        return df\n",
    "    except:\n",
    "        logging.info('error in scaling data')"
   ]
  },
  {
   "cell_type": "code",
   "execution_count": null,
   "id": "170c4f33",
   "metadata": {},
   "outputs": [],
   "source": [
    "standardize_columns(train_df, scale_train_list)"
   ]
  },
  {
   "cell_type": "code",
   "execution_count": null,
   "id": "bad11d15",
   "metadata": {},
   "outputs": [],
   "source": [
    "def optimize_df(dataframe: pd.DataFrame) -> pd.DataFrame:\n",
    "    \"\"\"\n",
    "       A simple function which optimizes the data types of the dataframe and returns it\n",
    "        Parameters\n",
    "        ----------\n",
    "        dataframe:\n",
    "            Type: pd.DataFrame\n",
    "        Returns\n",
    "        -------\n",
    "        pd.DataFrame\n",
    "    \"\"\"\n",
    "    data_types = dataframe.dtypes\n",
    "    optimizable = ['float64', 'int64']\n",
    "    for col in data_types.index:\n",
    "        if(data_types[col] in optimizable):\n",
    "            if(data_types[col] == 'float64'):\n",
    "                # downcasting a float column\n",
    "                dataframe[col] = pd.to_numeric(\n",
    "                    dataframe[col], downcast='float')\n",
    "            elif(data_types[col] == 'int64'):\n",
    "                # downcasting an integer column\n",
    "                dataframe[col] = pd.to_numeric(\n",
    "                    dataframe[col], downcast='unsigned')\n",
    "\n",
    "    return dataframe\n",
    "# train_df = optimize_df(train_df)\n",
    "# train_df"
   ]
  },
  {
   "cell_type": "code",
   "execution_count": null,
   "id": "a55abc4a",
   "metadata": {
    "scrolled": true
   },
   "outputs": [],
   "source": [
    "standardize_columns(test_df, scale_test_list)"
   ]
  },
  {
   "cell_type": "code",
   "execution_count": null,
   "id": "6e8c3275",
   "metadata": {},
   "outputs": [],
   "source": [
    "# def get_min_max_of_dataframe_columns(df):\n",
    "#     top = df.max()\n",
    "#     top_df = pd.DataFrame(top, columns=['Max Value'])\n",
    "#     bottom = df.min()\n",
    "#     bottom_df = pd.DataFrame(bottom, columns=['Min Value'])\n",
    "#     info_df = pd.concat([top_df, bottom_df], axis=1)\n",
    "#     return info_df\n",
    "# train_df = get_min_max_of_dataframe_columns(train_df)"
   ]
  },
  {
   "cell_type": "code",
   "execution_count": null,
   "id": "e661b0b2",
   "metadata": {},
   "outputs": [],
   "source": [
    "# train_df = optimize_df(train_df)\n",
    "# train_df"
   ]
  },
  {
   "cell_type": "code",
   "execution_count": null,
   "id": "4a475e97",
   "metadata": {},
   "outputs": [],
   "source": [
    "# train_df"
   ]
  },
  {
   "cell_type": "code",
   "execution_count": null,
   "id": "78d000b0",
   "metadata": {},
   "outputs": [],
   "source": [
    "y_values = train_df['Sales']\n",
    "x_values = train_df.drop(['Sales'], axis=1)"
   ]
  },
  {
   "cell_type": "code",
   "execution_count": null,
   "id": "aff9f71e",
   "metadata": {},
   "outputs": [],
   "source": [
    "# X_train, X_test, y_train, y_test = train_test_split(X, y, test_size = 0.2, random_state=42)\n",
    "# X_train, X_val, y_train, y_val = train_test_split(X_train, y_train, test_size = 0.2, random_state=42)\n",
    "# Splitting Data (60,20,20)\n",
    "x_train, x_test, y_train, y_test = train_test_split(x_values, y_values, test_size=0.2, random_state=42)\n",
    "x_train, x_valid, y_train, y_valid = train_test_split(x_train, y_train, test_size=0.2, random_state=42)"
   ]
  },
  {
   "cell_type": "code",
   "execution_count": null,
   "id": "bdc009eb",
   "metadata": {},
   "outputs": [],
   "source": [
    "mlflow.autolog(log_input_examples=True, log_model_signatures=True, log_models=True, silent=True)\n",
    "# Create a based model\n",
    "rf = RandomForestRegressor()\n",
    "with mlflow.start_run() as run:\n",
    "    rf.fit(x_train, y_train)\n",
    "\n",
    "    train_score = rf.score(x_train, y_train)\n",
    "    valid_score = rf.score(x_valid,y_valid)\n",
    "    valid_metrics = calculate_metrics(y_valid,rf.predict(x_valid),\"Validation \")\n",
    "    test_score = rf.score(x_test,y_test)\n",
    "    test_metrics = calculate_metrics(y_test, rf.predict(x_test), \"Test \")\n",
    "\n",
    "    mlflow.log_metric(\"Valid Score\", valid_score)\n",
    "    mlflow.log_metrics(valid_metrics)\n",
    "    mlflow.log_metric(\"Test Score\", test_score)\n",
    "    mlflow.log_metrics(test_metrics)\n",
    "    save_model(rf, test_metrics['Test RMSE Score'])"
   ]
  },
  {
   "cell_type": "code",
   "execution_count": null,
   "id": "3e66df1d",
   "metadata": {},
   "outputs": [],
   "source": [
    "train_score"
   ]
  },
  {
   "cell_type": "code",
   "execution_count": null,
   "id": "1637bf19",
   "metadata": {},
   "outputs": [],
   "source": [
    "## Features Importance\n",
    "from matplotlib import pyplot\n",
    "# get importance\n",
    "importance = rf.coef_[0]\n",
    "# summarize feature importance\n",
    "for i,v in enumerate(importance):\n",
    "\tprint('Feature: %0d, Score: %.5f' % (i,v))\n",
    "# plot feature importance\n",
    "pyplot.bar([x for x in range(len(importance))], importance)\n",
    "pyplot.show()"
   ]
  },
  {
   "cell_type": "code",
   "execution_count": null,
   "id": "1d030c5f",
   "metadata": {},
   "outputs": [],
   "source": [
    "## Confusion Matrices\n",
    "cm_log = confusion_matrix(y_test, pred_log)\n",
    "print(\"Logistic Regression:\\n\", cm_log)\n",
    "\n",
    "# Desicion Tree\n",
    "cm_dt = confusion_matrix(y_test, pred_dt)\n",
    "print(\"Desicion Tree:\\n\", cm_dt)\n",
    "\n",
    "# XGBoost \n",
    "cm_xgb = confusion_matrix(y_test, pred_xgb)\n",
    "print(\"XGBoost:\\n\", cm_xgb)\n",
    "\n",
    "# Random Forest \n",
    "cm_rf = confusion_matrix(y_test, pred_rf)\n",
    "print(\"Random Forest:\\n\", cm_rf)"
   ]
  }
 ],
 "metadata": {
  "kernelspec": {
   "display_name": "Python 3 (ipykernel)",
   "language": "python",
   "name": "python3"
  },
  "language_info": {
   "codemirror_mode": {
    "name": "ipython",
    "version": 3
   },
   "file_extension": ".py",
   "mimetype": "text/x-python",
   "name": "python",
   "nbconvert_exporter": "python",
   "pygments_lexer": "ipython3",
   "version": "3.10.2"
  }
 },
 "nbformat": 4,
 "nbformat_minor": 5
}
